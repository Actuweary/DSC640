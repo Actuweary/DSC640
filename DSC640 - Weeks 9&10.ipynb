{
 "cells": [
  {
   "cell_type": "markdown",
   "id": "cca24661",
   "metadata": {},
   "source": [
    "# DSC 640 - Michael Ersevim - Weeks 9&10"
   ]
  },
  {
   "cell_type": "code",
   "execution_count": 1,
   "id": "760160c1",
   "metadata": {},
   "outputs": [],
   "source": [
    "# Call in libraries\n",
    "import matplotlib.pyplot as plt\n",
    "import seaborn as sns\n",
    "import pandas as pd"
   ]
  },
  {
   "cell_type": "code",
   "execution_count": 2,
   "id": "76a140fd",
   "metadata": {},
   "outputs": [
    {
     "data": {
      "text/html": [
       "<div>\n",
       "<style scoped>\n",
       "    .dataframe tbody tr th:only-of-type {\n",
       "        vertical-align: middle;\n",
       "    }\n",
       "\n",
       "    .dataframe tbody tr th {\n",
       "        vertical-align: top;\n",
       "    }\n",
       "\n",
       "    .dataframe thead th {\n",
       "        text-align: right;\n",
       "    }\n",
       "</style>\n",
       "<table border=\"1\" class=\"dataframe\">\n",
       "  <thead>\n",
       "    <tr style=\"text-align: right;\">\n",
       "      <th></th>\n",
       "      <th>id</th>\n",
       "      <th>weight</th>\n",
       "      <th>sex</th>\n",
       "      <th>feed</th>\n",
       "    </tr>\n",
       "  </thead>\n",
       "  <tbody>\n",
       "    <tr>\n",
       "      <th>0</th>\n",
       "      <td>1.0</td>\n",
       "      <td>179.0</td>\n",
       "      <td>male</td>\n",
       "      <td>Horsebean</td>\n",
       "    </tr>\n",
       "    <tr>\n",
       "      <th>1</th>\n",
       "      <td>2.0</td>\n",
       "      <td>160.0</td>\n",
       "      <td>male</td>\n",
       "      <td>Horsebean</td>\n",
       "    </tr>\n",
       "    <tr>\n",
       "      <th>2</th>\n",
       "      <td>3.0</td>\n",
       "      <td>136.0</td>\n",
       "      <td>female</td>\n",
       "      <td>Horsebean</td>\n",
       "    </tr>\n",
       "    <tr>\n",
       "      <th>3</th>\n",
       "      <td>4.0</td>\n",
       "      <td>227.0</td>\n",
       "      <td>male</td>\n",
       "      <td>Horsebean</td>\n",
       "    </tr>\n",
       "    <tr>\n",
       "      <th>4</th>\n",
       "      <td>5.0</td>\n",
       "      <td>217.0</td>\n",
       "      <td>female</td>\n",
       "      <td>Horsebean</td>\n",
       "    </tr>\n",
       "  </tbody>\n",
       "</table>\n",
       "</div>"
      ],
      "text/plain": [
       "    id  weight     sex       feed\n",
       "0  1.0   179.0    male  Horsebean\n",
       "1  2.0   160.0    male  Horsebean\n",
       "2  3.0   136.0  female  Horsebean\n",
       "3  4.0   227.0    male  Horsebean\n",
       "4  5.0   217.0  female  Horsebean"
      ]
     },
     "execution_count": 2,
     "metadata": {},
     "output_type": "execute_result"
    }
   ],
   "source": [
    "#Read in data\n",
    "df = pd.read_csv(r'C:\\\\Users\\\\Kate\\\\Documents\\\\Bellevue DS classes\\\\DSC640\\\\chick_weights.csv')\n",
    "df.head()"
   ]
  },
  {
   "cell_type": "code",
   "execution_count": 3,
   "id": "45b1576e",
   "metadata": {},
   "outputs": [
    {
     "data": {
      "image/png": "[encoded data removed]",
      "text/plain": [
       "<Figure size 432x288 with 1 Axes>"
      ]
     },
     "metadata": {
      "needs_background": "light"
     },
     "output_type": "display_data"
    }
   ],
   "source": [
    "#Making violin plot of weights of chick based of feedstock\n",
    "Ax = sns.violinplot(x=\"feed\", y=\"weight\", data=df, palette=\"coolwarm\")\n"
   ]
  },
  {
   "cell_type": "code",
   "execution_count": 30,
   "id": "20530a7b",
   "metadata": {},
   "outputs": [
    {
     "data": {
      "text/html": [
       "<div>\n",
       "<style scoped>\n",
       "    .dataframe tbody tr th:only-of-type {\n",
       "        vertical-align: middle;\n",
       "    }\n",
       "\n",
       "    .dataframe tbody tr th {\n",
       "        vertical-align: top;\n",
       "    }\n",
       "\n",
       "    .dataframe thead th {\n",
       "        text-align: right;\n",
       "    }\n",
       "</style>\n",
       "<table border=\"1\" class=\"dataframe\">\n",
       "  <thead>\n",
       "    <tr style=\"text-align: right;\">\n",
       "      <th></th>\n",
       "      <th>G</th>\n",
       "      <th>MIN</th>\n",
       "      <th>PTS</th>\n",
       "      <th>FGM</th>\n",
       "      <th>FGA</th>\n",
       "      <th>FGP</th>\n",
       "      <th>FTM</th>\n",
       "      <th>FTA</th>\n",
       "      <th>FTP</th>\n",
       "      <th>3PM</th>\n",
       "      <th>3PA</th>\n",
       "      <th>3PP</th>\n",
       "      <th>ORB</th>\n",
       "      <th>DRB</th>\n",
       "      <th>TRB</th>\n",
       "      <th>AST</th>\n",
       "      <th>STL</th>\n",
       "      <th>BLK</th>\n",
       "      <th>TO</th>\n",
       "      <th>PF</th>\n",
       "    </tr>\n",
       "  </thead>\n",
       "  <tbody>\n",
       "    <tr>\n",
       "      <th>0</th>\n",
       "      <td>79</td>\n",
       "      <td>38.6</td>\n",
       "      <td>30.2</td>\n",
       "      <td>10.8</td>\n",
       "      <td>22.0</td>\n",
       "      <td>0.491</td>\n",
       "      <td>7.5</td>\n",
       "      <td>9.8</td>\n",
       "      <td>0.765</td>\n",
       "      <td>1.1</td>\n",
       "      <td>3.5</td>\n",
       "      <td>0.317</td>\n",
       "      <td>1.1</td>\n",
       "      <td>3.9</td>\n",
       "      <td>5.0</td>\n",
       "      <td>7.5</td>\n",
       "      <td>2.2</td>\n",
       "      <td>1.3</td>\n",
       "      <td>3.4</td>\n",
       "      <td>2.3</td>\n",
       "    </tr>\n",
       "    <tr>\n",
       "      <th>1</th>\n",
       "      <td>81</td>\n",
       "      <td>37.7</td>\n",
       "      <td>28.4</td>\n",
       "      <td>9.7</td>\n",
       "      <td>19.9</td>\n",
       "      <td>0.489</td>\n",
       "      <td>7.3</td>\n",
       "      <td>9.4</td>\n",
       "      <td>0.780</td>\n",
       "      <td>1.6</td>\n",
       "      <td>4.7</td>\n",
       "      <td>0.344</td>\n",
       "      <td>1.3</td>\n",
       "      <td>6.3</td>\n",
       "      <td>7.6</td>\n",
       "      <td>7.2</td>\n",
       "      <td>1.7</td>\n",
       "      <td>1.1</td>\n",
       "      <td>3.0</td>\n",
       "      <td>1.7</td>\n",
       "    </tr>\n",
       "    <tr>\n",
       "      <th>2</th>\n",
       "      <td>82</td>\n",
       "      <td>36.2</td>\n",
       "      <td>26.8</td>\n",
       "      <td>9.8</td>\n",
       "      <td>20.9</td>\n",
       "      <td>0.467</td>\n",
       "      <td>5.9</td>\n",
       "      <td>6.9</td>\n",
       "      <td>0.856</td>\n",
       "      <td>1.4</td>\n",
       "      <td>4.1</td>\n",
       "      <td>0.351</td>\n",
       "      <td>1.1</td>\n",
       "      <td>4.1</td>\n",
       "      <td>5.2</td>\n",
       "      <td>4.9</td>\n",
       "      <td>1.5</td>\n",
       "      <td>0.5</td>\n",
       "      <td>2.6</td>\n",
       "      <td>2.3</td>\n",
       "    </tr>\n",
       "    <tr>\n",
       "      <th>3</th>\n",
       "      <td>81</td>\n",
       "      <td>37.7</td>\n",
       "      <td>25.9</td>\n",
       "      <td>9.6</td>\n",
       "      <td>20.0</td>\n",
       "      <td>0.479</td>\n",
       "      <td>6.0</td>\n",
       "      <td>6.7</td>\n",
       "      <td>0.890</td>\n",
       "      <td>0.8</td>\n",
       "      <td>2.1</td>\n",
       "      <td>0.359</td>\n",
       "      <td>1.1</td>\n",
       "      <td>7.3</td>\n",
       "      <td>8.4</td>\n",
       "      <td>2.4</td>\n",
       "      <td>0.8</td>\n",
       "      <td>0.8</td>\n",
       "      <td>1.9</td>\n",
       "      <td>2.2</td>\n",
       "    </tr>\n",
       "    <tr>\n",
       "      <th>4</th>\n",
       "      <td>67</td>\n",
       "      <td>36.2</td>\n",
       "      <td>25.8</td>\n",
       "      <td>8.5</td>\n",
       "      <td>19.1</td>\n",
       "      <td>0.447</td>\n",
       "      <td>6.0</td>\n",
       "      <td>6.9</td>\n",
       "      <td>0.878</td>\n",
       "      <td>2.7</td>\n",
       "      <td>6.7</td>\n",
       "      <td>0.404</td>\n",
       "      <td>0.7</td>\n",
       "      <td>4.4</td>\n",
       "      <td>5.1</td>\n",
       "      <td>2.7</td>\n",
       "      <td>1.0</td>\n",
       "      <td>1.4</td>\n",
       "      <td>2.5</td>\n",
       "      <td>3.1</td>\n",
       "    </tr>\n",
       "  </tbody>\n",
       "</table>\n",
       "</div>"
      ],
      "text/plain": [
       "    G   MIN   PTS   FGM   FGA    FGP  FTM  FTA    FTP  3PM  3PA    3PP  ORB  \\\n",
       "0  79  38.6  30.2  10.8  22.0  0.491  7.5  9.8  0.765  1.1  3.5  0.317  1.1   \n",
       "1  81  37.7  28.4   9.7  19.9  0.489  7.3  9.4  0.780  1.6  4.7  0.344  1.3   \n",
       "2  82  36.2  26.8   9.8  20.9  0.467  5.9  6.9  0.856  1.4  4.1  0.351  1.1   \n",
       "3  81  37.7  25.9   9.6  20.0  0.479  6.0  6.7  0.890  0.8  2.1  0.359  1.1   \n",
       "4  67  36.2  25.8   8.5  19.1  0.447  6.0  6.9  0.878  2.7  6.7  0.404  0.7   \n",
       "\n",
       "   DRB  TRB  AST  STL  BLK   TO   PF  \n",
       "0  3.9  5.0  7.5  2.2  1.3  3.4  2.3  \n",
       "1  6.3  7.6  7.2  1.7  1.1  3.0  1.7  \n",
       "2  4.1  5.2  4.9  1.5  0.5  2.6  2.3  \n",
       "3  7.3  8.4  2.4  0.8  0.8  1.9  2.2  \n",
       "4  4.4  5.1  2.7  1.0  1.4  2.5  3.1  "
      ]
     },
     "execution_count": 30,
     "metadata": {},
     "output_type": "execute_result"
    }
   ],
   "source": [
    "#Read in data\n",
    "df2 = pd.read_excel('C:\\\\Users\\\\Kate\\\\Documents\\\\Bellevue DS classes\\\\DSC640\\\\ppg2008.xlsx')\n",
    "df3=df2.iloc[:,1:]\n",
    "df3.head()"
   ]
  },
  {
   "cell_type": "code",
   "execution_count": 6,
   "id": "4ca90e4a",
   "metadata": {},
   "outputs": [
    {
     "data": {
      "image/png": "[encoded data removed]",
      "text/plain": [
       "<Figure size 432x288 with 2 Axes>"
      ]
     },
     "metadata": {
      "needs_background": "light"
     },
     "output_type": "display_data"
    }
   ],
   "source": [
    "heatmap = sns.heatmap(data=df3, cmap=\"plasma\", center = 0 , annot = False)\n",
    "plt.show()"
   ]
  },
  {
   "cell_type": "code",
   "execution_count": 7,
   "id": "e2bd20ef",
   "metadata": {},
   "outputs": [
    {
     "data": {
      "text/html": [
       "<div>\n",
       "<style scoped>\n",
       "    .dataframe tbody tr th:only-of-type {\n",
       "        vertical-align: middle;\n",
       "    }\n",
       "\n",
       "    .dataframe tbody tr th {\n",
       "        vertical-align: top;\n",
       "    }\n",
       "\n",
       "    .dataframe thead th {\n",
       "        text-align: right;\n",
       "    }\n",
       "</style>\n",
       "<table border=\"1\" class=\"dataframe\">\n",
       "  <thead>\n",
       "    <tr style=\"text-align: right;\">\n",
       "      <th></th>\n",
       "      <th>Address</th>\n",
       "      <th>City</th>\n",
       "      <th>State</th>\n",
       "      <th>Zip Code</th>\n",
       "      <th>Latitude</th>\n",
       "      <th>Longitude</th>\n",
       "    </tr>\n",
       "  </thead>\n",
       "  <tbody>\n",
       "    <tr>\n",
       "      <th>0</th>\n",
       "      <td>1205 N. Memorial Parkway</td>\n",
       "      <td>Huntsville</td>\n",
       "      <td>Alabama</td>\n",
       "      <td>35801-5930</td>\n",
       "      <td>34.743095</td>\n",
       "      <td>-86.600955</td>\n",
       "    </tr>\n",
       "    <tr>\n",
       "      <th>1</th>\n",
       "      <td>3650 Galleria Circle</td>\n",
       "      <td>Hoover</td>\n",
       "      <td>Alabama</td>\n",
       "      <td>35244-2346</td>\n",
       "      <td>33.377649</td>\n",
       "      <td>-86.812420</td>\n",
       "    </tr>\n",
       "    <tr>\n",
       "      <th>2</th>\n",
       "      <td>8251 Eastchase Parkway</td>\n",
       "      <td>Montgomery</td>\n",
       "      <td>Alabama</td>\n",
       "      <td>36117</td>\n",
       "      <td>32.363889</td>\n",
       "      <td>-86.150884</td>\n",
       "    </tr>\n",
       "    <tr>\n",
       "      <th>3</th>\n",
       "      <td>5225 Commercial Boulevard</td>\n",
       "      <td>Juneau</td>\n",
       "      <td>Alaska</td>\n",
       "      <td>99801-7210</td>\n",
       "      <td>58.359200</td>\n",
       "      <td>-134.483000</td>\n",
       "    </tr>\n",
       "    <tr>\n",
       "      <th>4</th>\n",
       "      <td>330 West Dimond Blvd</td>\n",
       "      <td>Anchorage</td>\n",
       "      <td>Alaska</td>\n",
       "      <td>99515-1950</td>\n",
       "      <td>61.143266</td>\n",
       "      <td>-149.884217</td>\n",
       "    </tr>\n",
       "  </tbody>\n",
       "</table>\n",
       "</div>"
      ],
      "text/plain": [
       "                     Address        City    State    Zip Code   Latitude  \\\n",
       "0   1205 N. Memorial Parkway  Huntsville  Alabama  35801-5930  34.743095   \n",
       "1       3650 Galleria Circle      Hoover  Alabama  35244-2346  33.377649   \n",
       "2     8251 Eastchase Parkway  Montgomery  Alabama       36117  32.363889   \n",
       "3  5225 Commercial Boulevard      Juneau   Alaska  99801-7210  58.359200   \n",
       "4       330 West Dimond Blvd   Anchorage   Alaska  99515-1950  61.143266   \n",
       "\n",
       "    Longitude  \n",
       "0  -86.600955  \n",
       "1  -86.812420  \n",
       "2  -86.150884  \n",
       "3 -134.483000  \n",
       "4 -149.884217  "
      ]
     },
     "execution_count": 7,
     "metadata": {},
     "output_type": "execute_result"
    }
   ],
   "source": [
    "dfgpd = pd.read_csv(r'C:\\\\Users\\\\Kate\\\\Documents\\\\Bellevue DS classes\\\\DSC640\\\\costcos-geocoded.csv')\n",
    "dfgpd.head()"
   ]
  },
  {
   "cell_type": "code",
   "execution_count": 29,
   "id": "505741bd",
   "metadata": {},
   "outputs": [
    {
     "data": {
      "application/vnd.plotly.v1+json": {
       "config": {
        "plotlyServerURL": "https://plot.ly"
       },
       "data": [
        {
         "coloraxis": "coloraxis",
         "hovertemplate": "Latitude=%{lat}<br>Longitude=%{lon}<extra></extra>",
         "lat": [
          34.7430949,
          33.377649,
          32.363889,
          58.3592,
          61.143266,
          61.210815,
          34.548993,
          32.3262177,
          32.2522189,
          33.643277,
          33.296095,
          33.347289,
          33.6241344,
          33.376244,
          33.293696,
          33.3886808,
          33.670943,
          33.659688,
          33.49179,
          33.5206919,
          33.473335,
          33.467156,
          33.600961,
          32.7789832,
          40.586449,
          39.7214025,
          38.4677597,
          38.597139,
          38.6699409,
          38.588195,
          38.78061,
          38.645206,
          38.6903,
          40.7919385,
          38.4204562,
          37.7003612,
          37.3019943,
          37.784874,
          38.018791,
          37.3886293,
          37.253214,
          37.309657,
          36.985104,
          37.357021,
          38.087238,
          37.898774,
          38.133192,
          38.215406,
          37.7181741,
          37.702588,
          37.667516,
          37.5031232,
          37.78259,
          38.009119,
          37.561366,
          37.770488,
          37.372027,
          37.6422308,
          37.6654356,
          37.420676,
          36.6170705,
          36.703939,
          36.80989,
          36.792187,
          34.66129,
          34.936541,
          35.251917,
          36.292806,
          34.42789,
          34.2251071,
          33.87567,
          33.8899732,
          33.773511,
          33.862449,
          33.7282,
          33.699689,
          33.703448,
          33.5569565,
          33.469498,
          33.6570006,
          33.935555,
          33.696337,
          34.068044,
          34.5155574,
          32.8152064,
          33.7996392,
          32.987241,
          32.712739,
          33.1879309,
          32.840642,
          32.93649,
          33.1201381,
          32.773971,
          32.6089545,
          32.637276,
          34.089515,
          34.112139,
          34.083039,
          33.994075,
          34.078576,
          34.014463,
          34.131982,
          34.185739,
          34.181613,
          34.4027129,
          34.152307,
          34.230765,
          34.218644,
          33.8043173,
          33.850463,
          33.919958,
          34.032917,
          33.932029,
          33.800813,
          33.943257,
          33.992576,
          33.898805,
          34.1285583,
          38.3506756,
          37.519131,
          37.7510679,
          37.008207,
          38.3527259,
          37.6163221,
          37.478656,
          36.839426,
          35.297271,
          35.384837,
          33.567618,
          33.521227,
          34.137557,
          33.704896,
          32.8234958,
          32.816251,
          34.2725894,
          33.8031834,
          33.918618,
          33.9947586,
          39.6433872,
          38.892736,
          39.5580896,
          39.561203,
          39.638285,
          39.644445,
          39.862237,
          39.9576167,
          39.991358,
          39.690471,
          39.790074,
          38.9037505,
          41.0919457,
          41.4422731,
          41.542672,
          41.249661,
          41.9936047,
          39.677736,
          26.411955,
          26.22026,
          26.489631,
          26.544447,
          27.921491,
          26.5872905,
          26.6810314,
          26.8083519,
          26.0969039,
          25.655668,
          25.909564,
          25.774109,
          26.273566,
          26.009617,
          25.923451,
          28.404252,
          28.59907,
          28.6618672,
          30.4606461,
          30.252071,
          27.9604528,
          34.9326477,
          34.0620378,
          33.8816153,
          33.927816,
          33.572052,
          34.0092178,
          33.947764,
          34.090513,
          33.8709805,
          19.687344,
          21.282117,
          21.4188931,
          21.9665355,
          20.887082,
          21.3272958,
          21.3184739,
          47.7080223,
          43.585487,
          43.615175,
          42.591998,
          42.905739,
          42.014665,
          41.7600708,
          41.9297729,
          41.845569,
          41.6011911,
          42.0565401,
          42.1788808,
          41.9396832,
          42.187135,
          41.7443388,
          41.7265993,
          41.9073026,
          41.9091302,
          42.0831646,
          42.240048,
          42.1090138,
          41.4738435,
          39.916735,
          39.913779,
          41.562811,
          38.95885,
          38.906906,
          38.3163673,
          38.9731445,
          39.4018344,
          39.358195,
          39.15582,
          39.186369,
          39.2035401,
          39.155646,
          37.228312,
          38.6645584,
          42.395066,
          42.136598,
          42.230996,
          37.226693,
          42.13216,
          42.4017251,
          42.910564,
          42.875818,
          42.7070854,
          42.6295851,
          42.606916,
          42.432885,
          42.3813419,
          42.5044786,
          42.5161919,
          42.4959314,
          42.534006,
          45.1985438,
          44.9676254,
          45.09298,
          44.8603208,
          45.029375,
          44.7481179,
          39.0682148,
          39.0372034,
          38.797262,
          38.506798,
          38.597951,
          48.174177,
          46.89293,
          45.71334,
          46.616615,
          45.7550163,
          41.265224,
          39.1123484,
          39.503102,
          39.579204,
          36.1633476,
          36.278946,
          36.1721288,
          36.06985,
          42.7023,
          40.5317305,
          40.5644881,
          40.0547573,
          39.9505868,
          39.70721,
          40.8096853,
          40.906896,
          40.4194098,
          40.876239,
          40.8872413,
          40.6931,
          40.830625,
          35.068225,
          35.19547,
          35.136386,
          40.862057,
          40.757604,
          40.773266,
          40.8067522,
          40.743347,
          40.6307824,
          40.6554813,
          40.7673216,
          41.107253,
          40.896403,
          40.9749617,
          40.57268,
          40.7333304,
          40.997205,
          40.7953918,
          34.2471728,
          35.162075,
          35.130096,
          36.028911,
          35.818255,
          36.058064,
          36.064731,
          39.2956999,
          39.288172,
          41.5241698,
          41.6773358,
          40.150574,
          41.3130793,
          41.461881,
          44.057267,
          42.3687759,
          44.089117,
          44.6391268,
          44.918976,
          45.559288,
          45.4367116,
          45.535709,
          45.332949,
          45.429738,
          45.509085,
          43.2590258,
          46.1472442,
          40.2391985,
          40.091369,
          40.052357,
          40.3098913,
          40.691215,
          40.4067922,
          40.4581284,
          34.8360858,
          33.705698,
          32.7953856,
          34.9370256,
          35.0465639,
          35.19204,
          36.1392669,
          35.963436,
          30.3968644,
          29.576287,
          29.598391,
          29.9536092,
          29.787755,
          29.7327829,
          32.6775654,
          32.9419217,
          32.6846619,
          33.023989,
          33.0441379,
          32.9952011,
          31.783497,
          29.611904,
          32.620946,
          32.9087304,
          37.122515,
          41.197413,
          40.6903769,
          40.730657,
          40.2822443,
          40.5506675,
          40.389719,
          40.889379,
          40.6577119,
          44.5034,
          37.106044,
          36.851561,
          37.438778,
          37.642294,
          38.428597,
          39.157827,
          38.8624735,
          38.642245,
          38.739883,
          38.849315,
          39.115223,
          39.023821,
          38.8951069,
          38.783572,
          38.293479,
          47.681717,
          46.4229672,
          46.225654,
          47.658358,
          47.724927,
          46.562354,
          47.401812,
          45.684942,
          47.05934,
          46.996336,
          47.238297,
          47.224683,
          47.656571,
          48.0770692,
          48.0770692,
          47.156472,
          48.147561,
          48.453882,
          48.7974507,
          47.903556,
          47.445595,
          47.5649224,
          47.77567,
          47.779015,
          47.82549,
          47.5512165,
          47.2869797,
          45.6212994,
          47.3577482,
          47.354838,
          43.100195,
          43.3246907
         ],
         "lon": [
          -86.6009553,
          -86.81242,
          -86.150884,
          -134.483,
          -149.884217,
          -149.804337,
          -112.3954274,
          -111.0491606,
          -110.859554,
          -112.233474,
          -111.745647,
          -111.961862,
          -111.9019118,
          -111.840765,
          -111.899509,
          -111.6675437,
          -112.028124,
          -112.115841,
          -112.128379,
          -112.095189,
          -111.985531,
          -112.274404,
          -111.983793,
          -117.1269067,
          -122.345675,
          -121.8096578,
          -121.4154069,
          -121.452409,
          -121.7259571,
          -121.263769,
          -121.267423,
          -121.109598,
          -121.29859,
          -124.1825438,
          -122.7134804,
          -121.0671386,
          -120.4940012,
          -121.260014,
          -121.292757,
          -121.8829132,
          -121.879999,
          -121.851571,
          -122.033615,
          -121.938843,
          -122.551076,
          -122.320125,
          -122.213745,
          -122.144911,
          -122.1809332,
          -121.812265,
          -122.10278,
          -121.9748814,
          -121.972853,
          -121.837904,
          -122.275144,
          -122.411106,
          -121.994779,
          -122.4010744,
          -122.4490857,
          -122.095061,
          -121.8474767,
          -121.668608,
          -119.874081,
          -119.714342,
          -118.151429,
          -120.42084,
          -120.691013,
          -119.306638,
          -119.874572,
          -119.148567,
          -117.74385,
          -117.5208947,
          -117.940271,
          -117.92211,
          -117.796294,
          -117.822618,
          -117.931978,
          -117.6788758,
          -117.677697,
          -117.7397337,
          -117.276579,
          -117.339182,
          -117.263077,
          -117.3196428,
          -115.5700028,
          -116.3819564,
          -117.077675,
          -117.11613,
          -117.2767568,
          -116.987356,
          -117.033125,
          -117.3165503,
          -117.024305,
          -117.0809526,
          -117.022199,
          -118.148531,
          -117.82633,
          -117.690661,
          -117.922,
          -117.5482714,
          -117.741815,
          -117.925681,
          -118.324045,
          -118.46401,
          -118.4550432,
          -118.797131,
          -118.551069,
          -118.596119,
          -118.166725,
          -118.136453,
          -118.102519,
          -118.097463,
          -117.969786,
          -118.34993,
          -118.333856,
          -118.446821,
          -118.372745,
          -118.2636796,
          -121.9817708,
          -120.888552,
          -121.475091,
          -121.556447,
          -122.717092,
          -122.0889509,
          -122.216527,
          -119.78774,
          -119.058275,
          -119.048452,
          -117.711571,
          -117.154362,
          -117.442672,
          -116.272801,
          -117.2282851,
          -117.153631,
          -118.4276271,
          -118.038976,
          -118.342576,
          -118.1430614,
          -106.8885487,
          -104.71771,
          -104.7758852,
          -104.874753,
          -105.082856,
          -105.006451,
          -105.0661949,
          -105.1699298,
          -104.983163,
          -104.86808,
          -105.082637,
          -104.8172136,
          -73.4515808,
          -73.4051279,
          -72.9686675,
          -73.023977,
          -72.5754399,
          -75.64737,
          -80.1008839,
          -81.77492,
          -81.785933,
          -81.8742089,
          -82.330936,
          -80.0726927,
          -80.2195563,
          -80.0879667,
          -80.2509582,
          -80.412069,
          -80.156203,
          -80.330536,
          -80.148255,
          -80.360331,
          -80.298706,
          -81.40671,
          -81.30024,
          -81.4176945,
          -84.2124709,
          -81.533776,
          -82.7275752,
          -85.2547988,
          -83.9943156,
          -84.4694359,
          -84.352462,
          -84.333989,
          -84.5686483,
          -84.143039,
          -84.277902,
          -84.3350283,
          -156.017457,
          -157.7119219,
          -158.0063848,
          -159.3799149,
          -156.451364,
          -158.0881083,
          -157.870711,
          -116.7819023,
          -116.276686,
          -116.592784,
          -114.4656395,
          -112.468931,
          -87.7815541,
          -87.7418497,
          -87.6770447,
          -87.964888,
          -87.8618256,
          -88.0449252,
          -88.3387302,
          -88.1323182,
          -88.093412,
          -88.2058422,
          -88.0325566,
          -88.3400191,
          -87.8367543,
          -87.9332458,
          -87.9057161,
          -87.8214507,
          -87.3218679,
          -86.226227,
          -86.061793,
          -93.804976,
          -94.733002,
          -94.670999,
          -85.5728641,
          -76.8160858,
          -77.4075364,
          -76.444565,
          -76.730744,
          -76.793645,
          -76.5939428,
          -77.214124,
          -77.3903001,
          -76.8747015,
          -71.265264,
          -71.066458,
          -71.17497,
          -77.401371,
          -72.620485,
          -71.0695264,
          -85.542713,
          -85.76385,
          -83.2963467,
          -82.98077,
          -83.293322,
          -83.430471,
          -83.332026,
          -83.7594455,
          -83.117129,
          -82.9371897,
          -83.444799,
          -93.3502188,
          -93.3495534,
          -93.424382,
          -93.4358767,
          -93.039964,
          -93.2934839,
          -94.5815625,
          -94.3551426,
          -90.607339,
          -90.3408851,
          -90.506914,
          -114.29897,
          -114.037358,
          -111.070653,
          -112.0049737,
          -108.5727142,
          -96.10534,
          -119.8451288,
          -119.785095,
          -119.738792,
          -115.3318905,
          -115.209445,
          -115.1608236,
          -115.037166,
          -71.443126,
          -74.3766237,
          -74.5553081,
          -74.1563178,
          -74.8761132,
          -74.287661,
          -74.381266,
          -74.569445,
          -74.1705136,
          -74.038818,
          -74.2541309,
          -74.2873,
          -74.1366964,
          -106.530385,
          -106.66139,
          -106.614209,
          -73.130236,
          -73.420634,
          -73.050016,
          -73.2865925,
          -73.601117,
          -73.7398576,
          -74.0090742,
          -73.9375771,
          -74.025274,
          -73.7938571,
          -73.8612905,
          -74.168663,
          -73.8635717,
          -73.661561,
          -73.9318516,
          -77.8738996,
          -80.883958,
          -80.704742,
          -78.914527,
          -78.622315,
          -79.883838,
          -80.317952,
          -84.3032,
          -84.4510214,
          -81.4467262,
          -83.6241301,
          -82.976965,
          -81.8162777,
          -82.012682,
          -121.267616,
          -122.858378,
          -123.06635,
          -123.065814,
          -122.995309,
          -122.523747,
          -122.7564796,
          -122.9355,
          -122.764093,
          -122.571376,
          -122.841919,
          -123.3513746,
          -123.9174036,
          -75.2351214,
          -75.385931,
          -76.256924,
          -76.7996506,
          -80.107991,
          -79.9195722,
          -80.1671087,
          -82.311008,
          -78.915906,
          -80.0369654,
          -81.9906978,
          -89.7972209,
          -89.794989,
          -86.885891,
          -86.818149,
          -97.7456423,
          -98.597156,
          -98.277915,
          -95.5468109,
          -95.529263,
          -95.4389565,
          -97.4087829,
          -97.1121332,
          -97.1127486,
          -96.831701,
          -96.699179,
          -96.9648545,
          -106.410297,
          -98.474805,
          -96.910279,
          -96.4454985,
          -113.523381,
          -111.9793725,
          -111.9541263,
          -111.90294,
          -111.6798494,
          -111.8934445,
          -111.8229955,
          -111.895108,
          -111.889873,
          -73.173988,
          -76.496559,
          -76.199681,
          -77.587539,
          -77.561159,
          -78.85613,
          -78.157929,
          -77.0567423,
          -77.294447,
          -77.197301,
          -77.371784,
          -77.533198,
          -77.401854,
          -77.4430209,
          -77.5164269,
          -77.515701,
          -122.182086,
          -117.0442722,
          -119.235246,
          -117.332852,
          -117.411489,
          -120.499306,
          -120.280459,
          -122.604718,
          -122.760723,
          -122.916699,
          -122.373955,
          -122.469182,
          -122.680673,
          -123.1254206,
          -123.1254206,
          -122.308125,
          -122.191237,
          -122.338038,
          -122.4882889,
          -122.209275,
          -122.24834,
          -122.3304533,
          -122.344819,
          -122.1484548,
          -122.309915,
          -122.0528913,
          -122.3135201,
          -122.4591346,
          -122.6038876,
          -122.121185,
          -89.522751,
          -87.9216153
         ],
         "name": "",
         "radius": 1,
         "subplot": "mapbox",
         "type": "densitymapbox"
        }
       ],
       "layout": {
        "coloraxis": {
         "colorscale": [
          [
           0,
           "#0d0887"
          ],
          [
           0.1111111111111111,
           "#46039f"
          ],
          [
           0.2222222222222222,
           "#7201a8"
          ],
          [
           0.3333333333333333,
           "#9c179e"
          ],
          [
           0.4444444444444444,
           "#bd3786"
          ],
          [
           0.5555555555555556,
           "#d8576b"
          ],
          [
           0.6666666666666666,
           "#ed7953"
          ],
          [
           0.7777777777777778,
           "#fb9f3a"
          ],
          [
           0.8888888888888888,
           "#fdca26"
          ],
          [
           1,
           "#f0f921"
          ]
         ]
        },
        "legend": {
         "tracegroupgap": 0
        },
        "mapbox": {
         "center": {
          "lat": 38,
          "lon": -96
         },
         "domain": {
          "x": [
           0,
           1
          ],
          "y": [
           0,
           1
          ]
         },
         "style": "stamen-terrain",
         "zoom": 2.4
        },
        "margin": {
         "t": 60
        },
        "template": {
         "data": {
          "bar": [
           {
            "error_x": {
             "color": "#2a3f5f"
            },
            "error_y": {
             "color": "#2a3f5f"
            },
            "marker": {
             "line": {
              "color": "#E5ECF6",
              "width": 0.5
             },
             "pattern": {
              "fillmode": "overlay",
              "size": 10,
              "solidity": 0.2
             }
            },
            "type": "bar"
           }
          ],
          "barpolar": [
           {
            "marker": {
             "line": {
              "color": "#E5ECF6",
              "width": 0.5
             },
             "pattern": {
              "fillmode": "overlay",
              "size": 10,
              "solidity": 0.2
             }
            },
            "type": "barpolar"
           }
          ],
          "carpet": [
           {
            "aaxis": {
             "endlinecolor": "#2a3f5f",
             "gridcolor": "white",
             "linecolor": "white",
             "minorgridcolor": "white",
             "startlinecolor": "#2a3f5f"
            },
            "baxis": {
             "endlinecolor": "#2a3f5f",
             "gridcolor": "white",
             "linecolor": "white",
             "minorgridcolor": "white",
             "startlinecolor": "#2a3f5f"
            },
            "type": "carpet"
           }
          ],
          "choropleth": [
           {
            "colorbar": {
             "outlinewidth": 0,
             "ticks": ""
            },
            "type": "choropleth"
           }
          ],
          "contour": [
           {
            "colorbar": {
             "outlinewidth": 0,
             "ticks": ""
            },
            "colorscale": [
             [
              0,
              "#0d0887"
             ],
             [
              0.1111111111111111,
              "#46039f"
             ],
             [
              0.2222222222222222,
              "#7201a8"
             ],
             [
              0.3333333333333333,
              "#9c179e"
             ],
             [
              0.4444444444444444,
              "#bd3786"
             ],
             [
              0.5555555555555556,
              "#d8576b"
             ],
             [
              0.6666666666666666,
              "#ed7953"
             ],
             [
              0.7777777777777778,
              "#fb9f3a"
             ],
             [
              0.8888888888888888,
              "#fdca26"
             ],
             [
              1,
              "#f0f921"
             ]
            ],
            "type": "contour"
           }
          ],
          "contourcarpet": [
           {
            "colorbar": {
             "outlinewidth": 0,
             "ticks": ""
            },
            "type": "contourcarpet"
           }
          ],
          "heatmap": [
           {
            "colorbar": {
             "outlinewidth": 0,
             "ticks": ""
            },
            "colorscale": [
             [
              0,
              "#0d0887"
             ],
             [
              0.1111111111111111,
              "#46039f"
             ],
             [
              0.2222222222222222,
              "#7201a8"
             ],
             [
              0.3333333333333333,
              "#9c179e"
             ],
             [
              0.4444444444444444,
              "#bd3786"
             ],
             [
              0.5555555555555556,
              "#d8576b"
             ],
             [
              0.6666666666666666,
              "#ed7953"
             ],
             [
              0.7777777777777778,
              "#fb9f3a"
             ],
             [
              0.8888888888888888,
              "#fdca26"
             ],
             [
              1,
              "#f0f921"
             ]
            ],
            "type": "heatmap"
           }
          ],
          "heatmapgl": [
           {
            "colorbar": {
             "outlinewidth": 0,
             "ticks": ""
            },
            "colorscale": [
             [
              0,
              "#0d0887"
             ],
             [
              0.1111111111111111,
              "#46039f"
             ],
             [
              0.2222222222222222,
              "#7201a8"
             ],
             [
              0.3333333333333333,
              "#9c179e"
             ],
             [
              0.4444444444444444,
              "#bd3786"
             ],
             [
              0.5555555555555556,
              "#d8576b"
             ],
             [
              0.6666666666666666,
              "#ed7953"
             ],
             [
              0.7777777777777778,
              "#fb9f3a"
             ],
             [
              0.8888888888888888,
              "#fdca26"
             ],
             [
              1,
              "#f0f921"
             ]
            ],
            "type": "heatmapgl"
           }
          ],
          "histogram": [
           {
            "marker": {
             "pattern": {
              "fillmode": "overlay",
              "size": 10,
              "solidity": 0.2
             }
            },
            "type": "histogram"
           }
          ],
          "histogram2d": [
           {
            "colorbar": {
             "outlinewidth": 0,
             "ticks": ""
            },
            "colorscale": [
             [
              0,
              "#0d0887"
             ],
             [
              0.1111111111111111,
              "#46039f"
             ],
             [
              0.2222222222222222,
              "#7201a8"
             ],
             [
              0.3333333333333333,
              "#9c179e"
             ],
             [
              0.4444444444444444,
              "#bd3786"
             ],
             [
              0.5555555555555556,
              "#d8576b"
             ],
             [
              0.6666666666666666,
              "#ed7953"
             ],
             [
              0.7777777777777778,
              "#fb9f3a"
             ],
             [
              0.8888888888888888,
              "#fdca26"
             ],
             [
              1,
              "#f0f921"
             ]
            ],
            "type": "histogram2d"
           }
          ],
          "histogram2dcontour": [
           {
            "colorbar": {
             "outlinewidth": 0,
             "ticks": ""
            },
            "colorscale": [
             [
              0,
              "#0d0887"
             ],
             [
              0.1111111111111111,
              "#46039f"
             ],
             [
              0.2222222222222222,
              "#7201a8"
             ],
             [
              0.3333333333333333,
              "#9c179e"
             ],
             [
              0.4444444444444444,
              "#bd3786"
             ],
             [
              0.5555555555555556,
              "#d8576b"
             ],
             [
              0.6666666666666666,
              "#ed7953"
             ],
             [
              0.7777777777777778,
              "#fb9f3a"
             ],
             [
              0.8888888888888888,
              "#fdca26"
             ],
             [
              1,
              "#f0f921"
             ]
            ],
            "type": "histogram2dcontour"
           }
          ],
          "mesh3d": [
           {
            "colorbar": {
             "outlinewidth": 0,
             "ticks": ""
            },
            "type": "mesh3d"
           }
          ],
          "parcoords": [
           {
            "line": {
             "colorbar": {
              "outlinewidth": 0,
              "ticks": ""
             }
            },
            "type": "parcoords"
           }
          ],
          "pie": [
           {
            "automargin": true,
            "type": "pie"
           }
          ],
          "scatter": [
           {
            "fillpattern": {
             "fillmode": "overlay",
             "size": 10,
             "solidity": 0.2
            },
            "type": "scatter"
           }
          ],
          "scatter3d": [
           {
            "line": {
             "colorbar": {
              "outlinewidth": 0,
              "ticks": ""
             }
            },
            "marker": {
             "colorbar": {
              "outlinewidth": 0,
              "ticks": ""
             }
            },
            "type": "scatter3d"
           }
          ],
          "scattercarpet": [
           {
            "marker": {
             "colorbar": {
              "outlinewidth": 0,
              "ticks": ""
             }
            },
            "type": "scattercarpet"
           }
          ],
          "scattergeo": [
           {
            "marker": {
             "colorbar": {
              "outlinewidth": 0,
              "ticks": ""
             }
            },
            "type": "scattergeo"
           }
          ],
          "scattergl": [
           {
            "marker": {
             "colorbar": {
              "outlinewidth": 0,
              "ticks": ""
             }
            },
            "type": "scattergl"
           }
          ],
          "scattermapbox": [
           {
            "marker": {
             "colorbar": {
              "outlinewidth": 0,
              "ticks": ""
             }
            },
            "type": "scattermapbox"
           }
          ],
          "scatterpolar": [
           {
            "marker": {
             "colorbar": {
              "outlinewidth": 0,
              "ticks": ""
             }
            },
            "type": "scatterpolar"
           }
          ],
          "scatterpolargl": [
           {
            "marker": {
             "colorbar": {
              "outlinewidth": 0,
              "ticks": ""
             }
            },
            "type": "scatterpolargl"
           }
          ],
          "scatterternary": [
           {
            "marker": {
             "colorbar": {
              "outlinewidth": 0,
              "ticks": ""
             }
            },
            "type": "scatterternary"
           }
          ],
          "surface": [
           {
            "colorbar": {
             "outlinewidth": 0,
             "ticks": ""
            },
            "colorscale": [
             [
              0,
              "#0d0887"
             ],
             [
              0.1111111111111111,
              "#46039f"
             ],
             [
              0.2222222222222222,
              "#7201a8"
             ],
             [
              0.3333333333333333,
              "#9c179e"
             ],
             [
              0.4444444444444444,
              "#bd3786"
             ],
             [
              0.5555555555555556,
              "#d8576b"
             ],
             [
              0.6666666666666666,
              "#ed7953"
             ],
             [
              0.7777777777777778,
              "#fb9f3a"
             ],
             [
              0.8888888888888888,
              "#fdca26"
             ],
             [
              1,
              "#f0f921"
             ]
            ],
            "type": "surface"
           }
          ],
          "table": [
           {
            "cells": {
             "fill": {
              "color": "#EBF0F8"
             },
             "line": {
              "color": "white"
             }
            },
            "header": {
             "fill": {
              "color": "#C8D4E3"
             },
             "line": {
              "color": "white"
             }
            },
            "type": "table"
           }
          ]
         },
         "layout": {
          "annotationdefaults": {
           "arrowcolor": "#2a3f5f",
           "arrowhead": 0,
           "arrowwidth": 1
          },
          "autotypenumbers": "strict",
          "coloraxis": {
           "colorbar": {
            "outlinewidth": 0,
            "ticks": ""
           }
          },
          "colorscale": {
           "diverging": [
            [
             0,
             "#8e0152"
            ],
            [
             0.1,
             "#c51b7d"
            ],
            [
             0.2,
             "#de77ae"
            ],
            [
             0.3,
             "#f1b6da"
            ],
            [
             0.4,
             "#fde0ef"
            ],
            [
             0.5,
             "#f7f7f7"
            ],
            [
             0.6,
             "#e6f5d0"
            ],
            [
             0.7,
             "#b8e186"
            ],
            [
             0.8,
             "#7fbc41"
            ],
            [
             0.9,
             "#4d9221"
            ],
            [
             1,
             "#276419"
            ]
           ],
           "sequential": [
            [
             0,
             "#0d0887"
            ],
            [
             0.1111111111111111,
             "#46039f"
            ],
            [
             0.2222222222222222,
             "#7201a8"
            ],
            [
             0.3333333333333333,
             "#9c179e"
            ],
            [
             0.4444444444444444,
             "#bd3786"
            ],
            [
             0.5555555555555556,
             "#d8576b"
            ],
            [
             0.6666666666666666,
             "#ed7953"
            ],
            [
             0.7777777777777778,
             "#fb9f3a"
            ],
            [
             0.8888888888888888,
             "#fdca26"
            ],
            [
             1,
             "#f0f921"
            ]
           ],
           "sequentialminus": [
            [
             0,
             "#0d0887"
            ],
            [
             0.1111111111111111,
             "#46039f"
            ],
            [
             0.2222222222222222,
             "#7201a8"
            ],
            [
             0.3333333333333333,
             "#9c179e"
            ],
            [
             0.4444444444444444,
             "#bd3786"
            ],
            [
             0.5555555555555556,
             "#d8576b"
            ],
            [
             0.6666666666666666,
             "#ed7953"
            ],
            [
             0.7777777777777778,
             "#fb9f3a"
            ],
            [
             0.8888888888888888,
             "#fdca26"
            ],
            [
             1,
             "#f0f921"
            ]
           ]
          },
          "colorway": [
           "#636efa",
           "#EF553B",
           "#00cc96",
           "#ab63fa",
           "#FFA15A",
           "#19d3f3",
           "#FF6692",
           "#B6E880",
           "#FF97FF",
           "#FECB52"
          ],
          "font": {
           "color": "#2a3f5f"
          },
          "geo": {
           "bgcolor": "white",
           "lakecolor": "white",
           "landcolor": "#E5ECF6",
           "showlakes": true,
           "showland": true,
           "subunitcolor": "white"
          },
          "hoverlabel": {
           "align": "left"
          },
          "hovermode": "closest",
          "mapbox": {
           "style": "light"
          },
          "paper_bgcolor": "white",
          "plot_bgcolor": "#E5ECF6",
          "polar": {
           "angularaxis": {
            "gridcolor": "white",
            "linecolor": "white",
            "ticks": ""
           },
           "bgcolor": "#E5ECF6",
           "radialaxis": {
            "gridcolor": "white",
            "linecolor": "white",
            "ticks": ""
           }
          },
          "scene": {
           "xaxis": {
            "backgroundcolor": "#E5ECF6",
            "gridcolor": "white",
            "gridwidth": 2,
            "linecolor": "white",
            "showbackground": true,
            "ticks": "",
            "zerolinecolor": "white"
           },
           "yaxis": {
            "backgroundcolor": "#E5ECF6",
            "gridcolor": "white",
            "gridwidth": 2,
            "linecolor": "white",
            "showbackground": true,
            "ticks": "",
            "zerolinecolor": "white"
           },
           "zaxis": {
            "backgroundcolor": "#E5ECF6",
            "gridcolor": "white",
            "gridwidth": 2,
            "linecolor": "white",
            "showbackground": true,
            "ticks": "",
            "zerolinecolor": "white"
           }
          },
          "shapedefaults": {
           "line": {
            "color": "#2a3f5f"
           }
          },
          "ternary": {
           "aaxis": {
            "gridcolor": "white",
            "linecolor": "white",
            "ticks": ""
           },
           "baxis": {
            "gridcolor": "white",
            "linecolor": "white",
            "ticks": ""
           },
           "bgcolor": "#E5ECF6",
           "caxis": {
            "gridcolor": "white",
            "linecolor": "white",
            "ticks": ""
           }
          },
          "title": {
           "x": 0.05
          },
          "xaxis": {
           "automargin": true,
           "gridcolor": "white",
           "linecolor": "white",
           "ticks": "",
           "title": {
            "standoff": 15
           },
           "zerolinecolor": "white",
           "zerolinewidth": 2
          },
          "yaxis": {
           "automargin": true,
           "gridcolor": "white",
           "linecolor": "white",
           "ticks": "",
           "title": {
            "standoff": 15
           },
           "zerolinecolor": "white",
           "zerolinewidth": 2
          }
         }
        }
       }
      },
      "text/html": [
       "<div>                            <div id=\"eb7689d9-b757-4592-8972-c2b78d724e66\" class=\"plotly-graph-div\" style=\"height:525px; width:100%;\"></div>            <script type=\"text/javascript\">                require([\"plotly\"], function(Plotly) {                    window.PLOTLYENV=window.PLOTLYENV || {};                                    if (document.getElementById(\"eb7689d9-b757-4592-8972-c2b78d724e66\")) {                    Plotly.newPlot(                        \"eb7689d9-b757-4592-8972-c2b78d724e66\",                        [{\"coloraxis\":\"coloraxis\",\"hovertemplate\":\"Latitude=%{lat}<br>Longitude=%{lon}<extra></extra>\",\"lat\":[34.7430949,33.377649,32.363889,58.3592,61.143266,61.210815,34.548993,32.3262177,32.2522189,33.643277,33.296095,33.347289,33.6241344,33.376244,33.293696,33.3886808,33.670943,33.659688,33.49179,33.5206919,33.473335,33.467156,33.600961,32.7789832,40.586449,39.7214025,38.4677597,38.597139,38.6699409,38.588195,38.78061,38.645206,38.6903,40.7919385,38.4204562,37.7003612,37.3019943,37.784874,38.018791,37.3886293,37.253214,37.309657,36.985104,37.357021,38.087238,37.898774,38.133192,38.215406,37.7181741,37.702588,37.667516,37.5031232,37.78259,38.009119,37.561366,37.770488,37.372027,37.6422308,37.6654356,37.420676,36.6170705,36.703939,36.80989,36.792187,34.66129,34.936541,35.251917,36.292806,34.42789,34.2251071,33.87567,33.8899732,33.773511,33.862449,33.7282,33.699689,33.703448,33.5569565,33.469498,33.6570006,33.935555,33.696337,34.068044,34.5155574,32.8152064,33.7996392,32.987241,32.712739,33.1879309,32.840642,32.93649,33.1201381,32.773971,32.6089545,32.637276,34.089515,34.112139,34.083039,33.994075,34.078576,34.014463,34.131982,34.185739,34.181613,34.4027129,34.152307,34.230765,34.218644,33.8043173,33.850463,33.919958,34.032917,33.932029,33.800813,33.943257,33.992576,33.898805,34.1285583,38.3506756,37.519131,37.7510679,37.008207,38.3527259,37.6163221,37.478656,36.839426,35.297271,35.384837,33.567618,33.521227,34.137557,33.704896,32.8234958,32.816251,34.2725894,33.8031834,33.918618,33.9947586,39.6433872,38.892736,39.5580896,39.561203,39.638285,39.644445,39.862237,39.9576167,39.991358,39.690471,39.790074,38.9037505,41.0919457,41.4422731,41.542672,41.249661,41.9936047,39.677736,26.411955,26.22026,26.489631,26.544447,27.921491,26.5872905,26.6810314,26.8083519,26.0969039,25.655668,25.909564,25.774109,26.273566,26.009617,25.923451,28.404252,28.59907,28.6618672,30.4606461,30.252071,27.9604528,34.9326477,34.0620378,33.8816153,33.927816,33.572052,34.0092178,33.947764,34.090513,33.8709805,19.687344,21.282117,21.4188931,21.9665355,20.887082,21.3272958,21.3184739,47.7080223,43.585487,43.615175,42.591998,42.905739,42.014665,41.7600708,41.9297729,41.845569,41.6011911,42.0565401,42.1788808,41.9396832,42.187135,41.7443388,41.7265993,41.9073026,41.9091302,42.0831646,42.240048,42.1090138,41.4738435,39.916735,39.913779,41.562811,38.95885,38.906906,38.3163673,38.9731445,39.4018344,39.358195,39.15582,39.186369,39.2035401,39.155646,37.228312,38.6645584,42.395066,42.136598,42.230996,37.226693,42.13216,42.4017251,42.910564,42.875818,42.7070854,42.6295851,42.606916,42.432885,42.3813419,42.5044786,42.5161919,42.4959314,42.534006,45.1985438,44.9676254,45.09298,44.8603208,45.029375,44.7481179,39.0682148,39.0372034,38.797262,38.506798,38.597951,48.174177,46.89293,45.71334,46.616615,45.7550163,41.265224,39.1123484,39.503102,39.579204,36.1633476,36.278946,36.1721288,36.06985,42.7023,40.5317305,40.5644881,40.0547573,39.9505868,39.70721,40.8096853,40.906896,40.4194098,40.876239,40.8872413,40.6931,40.830625,35.068225,35.19547,35.136386,40.862057,40.757604,40.773266,40.8067522,40.743347,40.6307824,40.6554813,40.7673216,41.107253,40.896403,40.9749617,40.57268,40.7333304,40.997205,40.7953918,34.2471728,35.162075,35.130096,36.028911,35.818255,36.058064,36.064731,39.2956999,39.288172,41.5241698,41.6773358,40.150574,41.3130793,41.461881,44.057267,42.3687759,44.089117,44.6391268,44.918976,45.559288,45.4367116,45.535709,45.332949,45.429738,45.509085,43.2590258,46.1472442,40.2391985,40.091369,40.052357,40.3098913,40.691215,40.4067922,40.4581284,34.8360858,33.705698,32.7953856,34.9370256,35.0465639,35.19204,36.1392669,35.963436,30.3968644,29.576287,29.598391,29.9536092,29.787755,29.7327829,32.6775654,32.9419217,32.6846619,33.023989,33.0441379,32.9952011,31.783497,29.611904,32.620946,32.9087304,37.122515,41.197413,40.6903769,40.730657,40.2822443,40.5506675,40.389719,40.889379,40.6577119,44.5034,37.106044,36.851561,37.438778,37.642294,38.428597,39.157827,38.8624735,38.642245,38.739883,38.849315,39.115223,39.023821,38.8951069,38.783572,38.293479,47.681717,46.4229672,46.225654,47.658358,47.724927,46.562354,47.401812,45.684942,47.05934,46.996336,47.238297,47.224683,47.656571,48.0770692,48.0770692,47.156472,48.147561,48.453882,48.7974507,47.903556,47.445595,47.5649224,47.77567,47.779015,47.82549,47.5512165,47.2869797,45.6212994,47.3577482,47.354838,43.100195,43.3246907],\"lon\":[-86.6009553,-86.81242,-86.150884,-134.483,-149.884217,-149.804337,-112.3954274,-111.0491606,-110.859554,-112.233474,-111.745647,-111.961862,-111.9019118,-111.840765,-111.899509,-111.6675437,-112.028124,-112.115841,-112.128379,-112.095189,-111.985531,-112.274404,-111.983793,-117.1269067,-122.345675,-121.8096578,-121.4154069,-121.452409,-121.7259571,-121.263769,-121.267423,-121.109598,-121.29859,-124.1825438,-122.7134804,-121.0671386,-120.4940012,-121.260014,-121.292757,-121.8829132,-121.879999,-121.851571,-122.033615,-121.938843,-122.551076,-122.320125,-122.213745,-122.144911,-122.1809332,-121.812265,-122.10278,-121.9748814,-121.972853,-121.837904,-122.275144,-122.411106,-121.994779,-122.4010744,-122.4490857,-122.095061,-121.8474767,-121.668608,-119.874081,-119.714342,-118.151429,-120.42084,-120.691013,-119.306638,-119.874572,-119.148567,-117.74385,-117.5208947,-117.940271,-117.92211,-117.796294,-117.822618,-117.931978,-117.6788758,-117.677697,-117.7397337,-117.276579,-117.339182,-117.263077,-117.3196428,-115.5700028,-116.3819564,-117.077675,-117.11613,-117.2767568,-116.987356,-117.033125,-117.3165503,-117.024305,-117.0809526,-117.022199,-118.148531,-117.82633,-117.690661,-117.922,-117.5482714,-117.741815,-117.925681,-118.324045,-118.46401,-118.4550432,-118.797131,-118.551069,-118.596119,-118.166725,-118.136453,-118.102519,-118.097463,-117.969786,-118.34993,-118.333856,-118.446821,-118.372745,-118.2636796,-121.9817708,-120.888552,-121.475091,-121.556447,-122.717092,-122.0889509,-122.216527,-119.78774,-119.058275,-119.048452,-117.711571,-117.154362,-117.442672,-116.272801,-117.2282851,-117.153631,-118.4276271,-118.038976,-118.342576,-118.1430614,-106.8885487,-104.71771,-104.7758852,-104.874753,-105.082856,-105.006451,-105.0661949,-105.1699298,-104.983163,-104.86808,-105.082637,-104.8172136,-73.4515808,-73.4051279,-72.9686675,-73.023977,-72.5754399,-75.64737,-80.1008839,-81.77492,-81.785933,-81.8742089,-82.330936,-80.0726927,-80.2195563,-80.0879667,-80.2509582,-80.412069,-80.156203,-80.330536,-80.148255,-80.360331,-80.298706,-81.40671,-81.30024,-81.4176945,-84.2124709,-81.533776,-82.7275752,-85.2547988,-83.9943156,-84.4694359,-84.352462,-84.333989,-84.5686483,-84.143039,-84.277902,-84.3350283,-156.017457,-157.7119219,-158.0063848,-159.3799149,-156.451364,-158.0881083,-157.870711,-116.7819023,-116.276686,-116.592784,-114.4656395,-112.468931,-87.7815541,-87.7418497,-87.6770447,-87.964888,-87.8618256,-88.0449252,-88.3387302,-88.1323182,-88.093412,-88.2058422,-88.0325566,-88.3400191,-87.8367543,-87.9332458,-87.9057161,-87.8214507,-87.3218679,-86.226227,-86.061793,-93.804976,-94.733002,-94.670999,-85.5728641,-76.8160858,-77.4075364,-76.444565,-76.730744,-76.793645,-76.5939428,-77.214124,-77.3903001,-76.8747015,-71.265264,-71.066458,-71.17497,-77.401371,-72.620485,-71.0695264,-85.542713,-85.76385,-83.2963467,-82.98077,-83.293322,-83.430471,-83.332026,-83.7594455,-83.117129,-82.9371897,-83.444799,-93.3502188,-93.3495534,-93.424382,-93.4358767,-93.039964,-93.2934839,-94.5815625,-94.3551426,-90.607339,-90.3408851,-90.506914,-114.29897,-114.037358,-111.070653,-112.0049737,-108.5727142,-96.10534,-119.8451288,-119.785095,-119.738792,-115.3318905,-115.209445,-115.1608236,-115.037166,-71.443126,-74.3766237,-74.5553081,-74.1563178,-74.8761132,-74.287661,-74.381266,-74.569445,-74.1705136,-74.038818,-74.2541309,-74.2873,-74.1366964,-106.530385,-106.66139,-106.614209,-73.130236,-73.420634,-73.050016,-73.2865925,-73.601117,-73.7398576,-74.0090742,-73.9375771,-74.025274,-73.7938571,-73.8612905,-74.168663,-73.8635717,-73.661561,-73.9318516,-77.8738996,-80.883958,-80.704742,-78.914527,-78.622315,-79.883838,-80.317952,-84.3032,-84.4510214,-81.4467262,-83.6241301,-82.976965,-81.8162777,-82.012682,-121.267616,-122.858378,-123.06635,-123.065814,-122.995309,-122.523747,-122.7564796,-122.9355,-122.764093,-122.571376,-122.841919,-123.3513746,-123.9174036,-75.2351214,-75.385931,-76.256924,-76.7996506,-80.107991,-79.9195722,-80.1671087,-82.311008,-78.915906,-80.0369654,-81.9906978,-89.7972209,-89.794989,-86.885891,-86.818149,-97.7456423,-98.597156,-98.277915,-95.5468109,-95.529263,-95.4389565,-97.4087829,-97.1121332,-97.1127486,-96.831701,-96.699179,-96.9648545,-106.410297,-98.474805,-96.910279,-96.4454985,-113.523381,-111.9793725,-111.9541263,-111.90294,-111.6798494,-111.8934445,-111.8229955,-111.895108,-111.889873,-73.173988,-76.496559,-76.199681,-77.587539,-77.561159,-78.85613,-78.157929,-77.0567423,-77.294447,-77.197301,-77.371784,-77.533198,-77.401854,-77.4430209,-77.5164269,-77.515701,-122.182086,-117.0442722,-119.235246,-117.332852,-117.411489,-120.499306,-120.280459,-122.604718,-122.760723,-122.916699,-122.373955,-122.469182,-122.680673,-123.1254206,-123.1254206,-122.308125,-122.191237,-122.338038,-122.4882889,-122.209275,-122.24834,-122.3304533,-122.344819,-122.1484548,-122.309915,-122.0528913,-122.3135201,-122.4591346,-122.6038876,-122.121185,-89.522751,-87.9216153],\"name\":\"\",\"radius\":1,\"subplot\":\"mapbox\",\"type\":\"densitymapbox\"}],                        {\"template\":{\"data\":{\"histogram2dcontour\":[{\"type\":\"histogram2dcontour\",\"colorbar\":{\"outlinewidth\":0,\"ticks\":\"\"},\"colorscale\":[[0.0,\"#0d0887\"],[0.1111111111111111,\"#46039f\"],[0.2222222222222222,\"#7201a8\"],[0.3333333333333333,\"#9c179e\"],[0.4444444444444444,\"#bd3786\"],[0.5555555555555556,\"#d8576b\"],[0.6666666666666666,\"#ed7953\"],[0.7777777777777778,\"#fb9f3a\"],[0.8888888888888888,\"#fdca26\"],[1.0,\"#f0f921\"]]}],\"choropleth\":[{\"type\":\"choropleth\",\"colorbar\":{\"outlinewidth\":0,\"ticks\":\"\"}}],\"histogram2d\":[{\"type\":\"histogram2d\",\"colorbar\":{\"outlinewidth\":0,\"ticks\":\"\"},\"colorscale\":[[0.0,\"#0d0887\"],[0.1111111111111111,\"#46039f\"],[0.2222222222222222,\"#7201a8\"],[0.3333333333333333,\"#9c179e\"],[0.4444444444444444,\"#bd3786\"],[0.5555555555555556,\"#d8576b\"],[0.6666666666666666,\"#ed7953\"],[0.7777777777777778,\"#fb9f3a\"],[0.8888888888888888,\"#fdca26\"],[1.0,\"#f0f921\"]]}],\"heatmap\":[{\"type\":\"heatmap\",\"colorbar\":{\"outlinewidth\":0,\"ticks\":\"\"},\"colorscale\":[[0.0,\"#0d0887\"],[0.1111111111111111,\"#46039f\"],[0.2222222222222222,\"#7201a8\"],[0.3333333333333333,\"#9c179e\"],[0.4444444444444444,\"#bd3786\"],[0.5555555555555556,\"#d8576b\"],[0.6666666666666666,\"#ed7953\"],[0.7777777777777778,\"#fb9f3a\"],[0.8888888888888888,\"#fdca26\"],[1.0,\"#f0f921\"]]}],\"heatmapgl\":[{\"type\":\"heatmapgl\",\"colorbar\":{\"outlinewidth\":0,\"ticks\":\"\"},\"colorscale\":[[0.0,\"#0d0887\"],[0.1111111111111111,\"#46039f\"],[0.2222222222222222,\"#7201a8\"],[0.3333333333333333,\"#9c179e\"],[0.4444444444444444,\"#bd3786\"],[0.5555555555555556,\"#d8576b\"],[0.6666666666666666,\"#ed7953\"],[0.7777777777777778,\"#fb9f3a\"],[0.8888888888888888,\"#fdca26\"],[1.0,\"#f0f921\"]]}],\"contourcarpet\":[{\"type\":\"contourcarpet\",\"colorbar\":{\"outlinewidth\":0,\"ticks\":\"\"}}],\"contour\":[{\"type\":\"contour\",\"colorbar\":{\"outlinewidth\":0,\"ticks\":\"\"},\"colorscale\":[[0.0,\"#0d0887\"],[0.1111111111111111,\"#46039f\"],[0.2222222222222222,\"#7201a8\"],[0.3333333333333333,\"#9c179e\"],[0.4444444444444444,\"#bd3786\"],[0.5555555555555556,\"#d8576b\"],[0.6666666666666666,\"#ed7953\"],[0.7777777777777778,\"#fb9f3a\"],[0.8888888888888888,\"#fdca26\"],[1.0,\"#f0f921\"]]}],\"surface\":[{\"type\":\"surface\",\"colorbar\":{\"outlinewidth\":0,\"ticks\":\"\"},\"colorscale\":[[0.0,\"#0d0887\"],[0.1111111111111111,\"#46039f\"],[0.2222222222222222,\"#7201a8\"],[0.3333333333333333,\"#9c179e\"],[0.4444444444444444,\"#bd3786\"],[0.5555555555555556,\"#d8576b\"],[0.6666666666666666,\"#ed7953\"],[0.7777777777777778,\"#fb9f3a\"],[0.8888888888888888,\"#fdca26\"],[1.0,\"#f0f921\"]]}],\"mesh3d\":[{\"type\":\"mesh3d\",\"colorbar\":{\"outlinewidth\":0,\"ticks\":\"\"}}],\"scatter\":[{\"fillpattern\":{\"fillmode\":\"overlay\",\"size\":10,\"solidity\":0.2},\"type\":\"scatter\"}],\"parcoords\":[{\"type\":\"parcoords\",\"line\":{\"colorbar\":{\"outlinewidth\":0,\"ticks\":\"\"}}}],\"scatterpolargl\":[{\"type\":\"scatterpolargl\",\"marker\":{\"colorbar\":{\"outlinewidth\":0,\"ticks\":\"\"}}}],\"bar\":[{\"error_x\":{\"color\":\"#2a3f5f\"},\"error_y\":{\"color\":\"#2a3f5f\"},\"marker\":{\"line\":{\"color\":\"#E5ECF6\",\"width\":0.5},\"pattern\":{\"fillmode\":\"overlay\",\"size\":10,\"solidity\":0.2}},\"type\":\"bar\"}],\"scattergeo\":[{\"type\":\"scattergeo\",\"marker\":{\"colorbar\":{\"outlinewidth\":0,\"ticks\":\"\"}}}],\"scatterpolar\":[{\"type\":\"scatterpolar\",\"marker\":{\"colorbar\":{\"outlinewidth\":0,\"ticks\":\"\"}}}],\"histogram\":[{\"marker\":{\"pattern\":{\"fillmode\":\"overlay\",\"size\":10,\"solidity\":0.2}},\"type\":\"histogram\"}],\"scattergl\":[{\"type\":\"scattergl\",\"marker\":{\"colorbar\":{\"outlinewidth\":0,\"ticks\":\"\"}}}],\"scatter3d\":[{\"type\":\"scatter3d\",\"line\":{\"colorbar\":{\"outlinewidth\":0,\"ticks\":\"\"}},\"marker\":{\"colorbar\":{\"outlinewidth\":0,\"ticks\":\"\"}}}],\"scattermapbox\":[{\"type\":\"scattermapbox\",\"marker\":{\"colorbar\":{\"outlinewidth\":0,\"ticks\":\"\"}}}],\"scatterternary\":[{\"type\":\"scatterternary\",\"marker\":{\"colorbar\":{\"outlinewidth\":0,\"ticks\":\"\"}}}],\"scattercarpet\":[{\"type\":\"scattercarpet\",\"marker\":{\"colorbar\":{\"outlinewidth\":0,\"ticks\":\"\"}}}],\"carpet\":[{\"aaxis\":{\"endlinecolor\":\"#2a3f5f\",\"gridcolor\":\"white\",\"linecolor\":\"white\",\"minorgridcolor\":\"white\",\"startlinecolor\":\"#2a3f5f\"},\"baxis\":{\"endlinecolor\":\"#2a3f5f\",\"gridcolor\":\"white\",\"linecolor\":\"white\",\"minorgridcolor\":\"white\",\"startlinecolor\":\"#2a3f5f\"},\"type\":\"carpet\"}],\"table\":[{\"cells\":{\"fill\":{\"color\":\"#EBF0F8\"},\"line\":{\"color\":\"white\"}},\"header\":{\"fill\":{\"color\":\"#C8D4E3\"},\"line\":{\"color\":\"white\"}},\"type\":\"table\"}],\"barpolar\":[{\"marker\":{\"line\":{\"color\":\"#E5ECF6\",\"width\":0.5},\"pattern\":{\"fillmode\":\"overlay\",\"size\":10,\"solidity\":0.2}},\"type\":\"barpolar\"}],\"pie\":[{\"automargin\":true,\"type\":\"pie\"}]},\"layout\":{\"autotypenumbers\":\"strict\",\"colorway\":[\"#636efa\",\"#EF553B\",\"#00cc96\",\"#ab63fa\",\"#FFA15A\",\"#19d3f3\",\"#FF6692\",\"#B6E880\",\"#FF97FF\",\"#FECB52\"],\"font\":{\"color\":\"#2a3f5f\"},\"hovermode\":\"closest\",\"hoverlabel\":{\"align\":\"left\"},\"paper_bgcolor\":\"white\",\"plot_bgcolor\":\"#E5ECF6\",\"polar\":{\"bgcolor\":\"#E5ECF6\",\"angularaxis\":{\"gridcolor\":\"white\",\"linecolor\":\"white\",\"ticks\":\"\"},\"radialaxis\":{\"gridcolor\":\"white\",\"linecolor\":\"white\",\"ticks\":\"\"}},\"ternary\":{\"bgcolor\":\"#E5ECF6\",\"aaxis\":{\"gridcolor\":\"white\",\"linecolor\":\"white\",\"ticks\":\"\"},\"baxis\":{\"gridcolor\":\"white\",\"linecolor\":\"white\",\"ticks\":\"\"},\"caxis\":{\"gridcolor\":\"white\",\"linecolor\":\"white\",\"ticks\":\"\"}},\"coloraxis\":{\"colorbar\":{\"outlinewidth\":0,\"ticks\":\"\"}},\"colorscale\":{\"sequential\":[[0.0,\"#0d0887\"],[0.1111111111111111,\"#46039f\"],[0.2222222222222222,\"#7201a8\"],[0.3333333333333333,\"#9c179e\"],[0.4444444444444444,\"#bd3786\"],[0.5555555555555556,\"#d8576b\"],[0.6666666666666666,\"#ed7953\"],[0.7777777777777778,\"#fb9f3a\"],[0.8888888888888888,\"#fdca26\"],[1.0,\"#f0f921\"]],\"sequentialminus\":[[0.0,\"#0d0887\"],[0.1111111111111111,\"#46039f\"],[0.2222222222222222,\"#7201a8\"],[0.3333333333333333,\"#9c179e\"],[0.4444444444444444,\"#bd3786\"],[0.5555555555555556,\"#d8576b\"],[0.6666666666666666,\"#ed7953\"],[0.7777777777777778,\"#fb9f3a\"],[0.8888888888888888,\"#fdca26\"],[1.0,\"#f0f921\"]],\"diverging\":[[0,\"#8e0152\"],[0.1,\"#c51b7d\"],[0.2,\"#de77ae\"],[0.3,\"#f1b6da\"],[0.4,\"#fde0ef\"],[0.5,\"#f7f7f7\"],[0.6,\"#e6f5d0\"],[0.7,\"#b8e186\"],[0.8,\"#7fbc41\"],[0.9,\"#4d9221\"],[1,\"#276419\"]]},\"xaxis\":{\"gridcolor\":\"white\",\"linecolor\":\"white\",\"ticks\":\"\",\"title\":{\"standoff\":15},\"zerolinecolor\":\"white\",\"automargin\":true,\"zerolinewidth\":2},\"yaxis\":{\"gridcolor\":\"white\",\"linecolor\":\"white\",\"ticks\":\"\",\"title\":{\"standoff\":15},\"zerolinecolor\":\"white\",\"automargin\":true,\"zerolinewidth\":2},\"scene\":{\"xaxis\":{\"backgroundcolor\":\"#E5ECF6\",\"gridcolor\":\"white\",\"linecolor\":\"white\",\"showbackground\":true,\"ticks\":\"\",\"zerolinecolor\":\"white\",\"gridwidth\":2},\"yaxis\":{\"backgroundcolor\":\"#E5ECF6\",\"gridcolor\":\"white\",\"linecolor\":\"white\",\"showbackground\":true,\"ticks\":\"\",\"zerolinecolor\":\"white\",\"gridwidth\":2},\"zaxis\":{\"backgroundcolor\":\"#E5ECF6\",\"gridcolor\":\"white\",\"linecolor\":\"white\",\"showbackground\":true,\"ticks\":\"\",\"zerolinecolor\":\"white\",\"gridwidth\":2}},\"shapedefaults\":{\"line\":{\"color\":\"#2a3f5f\"}},\"annotationdefaults\":{\"arrowcolor\":\"#2a3f5f\",\"arrowhead\":0,\"arrowwidth\":1},\"geo\":{\"bgcolor\":\"white\",\"landcolor\":\"#E5ECF6\",\"subunitcolor\":\"white\",\"showland\":true,\"showlakes\":true,\"lakecolor\":\"white\"},\"title\":{\"x\":0.05},\"mapbox\":{\"style\":\"light\"}}},\"mapbox\":{\"domain\":{\"x\":[0.0,1.0],\"y\":[0.0,1.0]},\"center\":{\"lat\":38,\"lon\":-96},\"zoom\":2.4,\"style\":\"stamen-terrain\"},\"coloraxis\":{\"colorscale\":[[0.0,\"#0d0887\"],[0.1111111111111111,\"#46039f\"],[0.2222222222222222,\"#7201a8\"],[0.3333333333333333,\"#9c179e\"],[0.4444444444444444,\"#bd3786\"],[0.5555555555555556,\"#d8576b\"],[0.6666666666666666,\"#ed7953\"],[0.7777777777777778,\"#fb9f3a\"],[0.8888888888888888,\"#fdca26\"],[1.0,\"#f0f921\"]]},\"legend\":{\"tracegroupgap\":0},\"margin\":{\"t\":60}},                        {\"responsive\": true}                    ).then(function(){\n",
       "                            \n",
       "var gd = document.getElementById('eb7689d9-b757-4592-8972-c2b78d724e66');\n",
       "var x = new MutationObserver(function (mutations, observer) {{\n",
       "        var display = window.getComputedStyle(gd).display;\n",
       "        if (!display || display === 'none') {{\n",
       "            console.log([gd, 'removed!']);\n",
       "            Plotly.purge(gd);\n",
       "            observer.disconnect();\n",
       "        }}\n",
       "}});\n",
       "\n",
       "// Listen for the removal of the full notebook cells\n",
       "var notebookContainer = gd.closest('#notebook-container');\n",
       "if (notebookContainer) {{\n",
       "    x.observe(notebookContainer, {childList: true});\n",
       "}}\n",
       "\n",
       "// Listen for the clearing of the current output cell\n",
       "var outputEl = gd.closest('.output');\n",
       "if (outputEl) {{\n",
       "    x.observe(outputEl, {childList: true});\n",
       "}}\n",
       "\n",
       "                        })                };                });            </script>        </div>"
      ]
     },
     "metadata": {},
     "output_type": "display_data"
    }
   ],
   "source": [
    "import plotly.express as px\n",
    "\n",
    "fig = px.density_mapbox(dfgpd,lat='Latitude',lon='Longitude', radius=1,\n",
    "                        center=dict(lat=38,lon=-96),zoom=2.4,\n",
    "                        mapbox_style=\"stamen-terrain\")\n",
    "fig.show()"
   ]
  },
  {
   "cell_type": "code",
   "execution_count": null,
   "id": "fd189cc8",
   "metadata": {},
   "outputs": [],
   "source": []
  }
 ],
 "metadata": {
  "kernelspec": {
   "display_name": "Python 3 (ipykernel)",
   "language": "python",
   "name": "python3"
  },
  "language_info": {
   "codemirror_mode": {
    "name": "ipython",
    "version": 3
   },
   "file_extension": ".py",
   "mimetype": "text/x-python",
   "name": "python",
   "nbconvert_exporter": "python",
   "pygments_lexer": "ipython3",
   "version": "3.9.7"
  }
 },
 "nbformat": 4,
 "nbformat_minor": 5
}
